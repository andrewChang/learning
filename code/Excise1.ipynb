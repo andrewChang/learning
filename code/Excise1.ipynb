{
 "cells": [
  {
   "cell_type": "code",
   "execution_count": 10,
   "id": "e8272298",
   "metadata": {},
   "outputs": [],
   "source": [
    "import torch\n",
    "import torch.nn as nn"
   ]
  },
  {
   "cell_type": "code",
   "execution_count": 11,
   "id": "ed9d1360",
   "metadata": {},
   "outputs": [],
   "source": [
    "import numpy as np"
   ]
  },
  {
   "cell_type": "markdown",
   "id": "4dc15801",
   "metadata": {},
   "source": [
    "**做一个线性回归模型试水**"
   ]
  },
  {
   "cell_type": "code",
   "execution_count": 12,
   "id": "c03aad72",
   "metadata": {},
   "outputs": [
    {
     "data": {
      "text/plain": [
       "(11, 1)"
      ]
     },
     "execution_count": 12,
     "metadata": {},
     "output_type": "execute_result"
    }
   ],
   "source": [
    "x_values = [i for i in range(11)]\n",
    "x_train = np.array(x_values,dtype=np.float32)\n",
    "x_train = x_train.reshape(-1,1)\n",
    "x_train.shape"
   ]
  },
  {
   "cell_type": "code",
   "execution_count": 13,
   "id": "405f6cf9",
   "metadata": {},
   "outputs": [
    {
     "data": {
      "text/plain": [
       "(11, 1)"
      ]
     },
     "execution_count": 13,
     "metadata": {},
     "output_type": "execute_result"
    }
   ],
   "source": [
    "y_values = [2*i+1 for i in x_values]\n",
    "y_train = np.array(y_values,dtype=np.float32)\n",
    "y_train = y_train.reshape(-1,1)\n",
    "y_train.shape"
   ]
  },
  {
   "cell_type": "markdown",
   "id": "3b8581ae",
   "metadata": {},
   "source": [
    "- 线性回归模型"
   ]
  },
  {
   "cell_type": "code",
   "execution_count": 14,
   "id": "f152f4b4",
   "metadata": {},
   "outputs": [],
   "source": [
    "class LinearRegressionModel(nn.Module):\n",
    "    def __init__(self,input_dim,output_dim):\n",
    "        super(LinearRegressionModel,self).__init__()\n",
    "        self.linear = nn.Linear(input_dim,output_dim)\n",
    "    def forward(self,x):\n",
    "        out = self.linear(x)\n",
    "        return out"
   ]
  },
  {
   "cell_type": "code",
   "execution_count": 15,
   "id": "db74bab6",
   "metadata": {},
   "outputs": [],
   "source": [
    "input_dim = 1\n",
    "output_dim =1\n",
    "model = LinearRegressionModel(input_dim,output_dim)"
   ]
  },
  {
   "cell_type": "code",
   "execution_count": 7,
   "id": "a2b86154",
   "metadata": {},
   "outputs": [
    {
     "data": {
      "text/plain": [
       "LinearRegressionModel(\n",
       "  (linear): Linear(in_features=1, out_features=1, bias=True)\n",
       ")"
      ]
     },
     "execution_count": 7,
     "metadata": {},
     "output_type": "execute_result"
    }
   ],
   "source": [
    "model"
   ]
  },
  {
   "cell_type": "markdown",
   "id": "85822cca",
   "metadata": {},
   "source": [
    "- 指定参数和损失函数"
   ]
  },
  {
   "cell_type": "code",
   "execution_count": 16,
   "id": "2773ef64",
   "metadata": {},
   "outputs": [],
   "source": [
    "epochs = 1000\n",
    "learning_rate = 0.01\n",
    "optimizer = torch.optim.SGD(model.parameters(),lr=learning_rate)\n",
    "criterion = nn.MSELoss()"
   ]
  },
  {
   "cell_type": "code",
   "execution_count": 17,
   "id": "e291b847",
   "metadata": {},
   "outputs": [
    {
     "name": "stdout",
     "output_type": "stream",
     "text": [
      "echoch 50,loss 0.00014305446529760957\n",
      "echoch 100,loss 8.159853314282373e-05\n",
      "echoch 150,loss 4.653842552215792e-05\n",
      "echoch 200,loss 2.6543486455921084e-05\n",
      "echoch 250,loss 1.5140612958930433e-05\n",
      "echoch 300,loss 8.635121048428118e-06\n",
      "echoch 350,loss 4.92535673402017e-06\n",
      "echoch 400,loss 2.809764055200503e-06\n",
      "echoch 450,loss 1.6023295756895095e-06\n",
      "echoch 500,loss 9.137877441389719e-07\n",
      "echoch 550,loss 5.214565703681728e-07\n",
      "echoch 600,loss 2.9746817631348677e-07\n",
      "echoch 650,loss 1.695689633152142e-07\n",
      "echoch 700,loss 9.674129586301206e-08\n",
      "echoch 750,loss 5.521522794538214e-08\n",
      "echoch 800,loss 3.145742155652442e-08\n",
      "echoch 850,loss 1.7978736721602218e-08\n",
      "echoch 900,loss 1.0176521847427011e-08\n",
      "echoch 950,loss 5.822080151318687e-09\n",
      "echoch 1000,loss 3.3006815058911343e-09\n"
     ]
    }
   ],
   "source": [
    "for epoch in range(epochs):\n",
    "    epoch+=1\n",
    "    inputs = torch.from_numpy(x_train)\n",
    "    labels = torch.from_numpy(y_train)\n",
    "    #梯度每一次要清零\n",
    "    optimizer.zero_grad()\n",
    "    #前向传播\n",
    "    outputs = model(inputs)\n",
    "    #计算损失\n",
    "    loss = criterion(outputs,labels)\n",
    "    #反向传播\n",
    "    loss.backward()\n",
    "    #更新权重参数\n",
    "    optimizer.step()\n",
    "    if epoch % 50 ==0:\n",
    "        print('echoch {},loss {}'.format(epoch,loss.item()))\n",
    "    "
   ]
  },
  {
   "cell_type": "markdown",
   "id": "4079c636",
   "metadata": {},
   "source": [
    "- 模型测试"
   ]
  },
  {
   "cell_type": "code",
   "execution_count": 18,
   "id": "e379b951",
   "metadata": {},
   "outputs": [],
   "source": [
    "predicted = model(torch.from_numpy(x_train).requires_grad_()).data.numpy()"
   ]
  },
  {
   "cell_type": "code",
   "execution_count": 19,
   "id": "81213d88",
   "metadata": {},
   "outputs": [
    {
     "data": {
      "text/plain": [
       "array([[ 0.9998927],\n",
       "       [ 2.9999082],\n",
       "       [ 4.9999237],\n",
       "       [ 6.9999394],\n",
       "       [ 8.999954 ],\n",
       "       [10.9999695],\n",
       "       [12.999987 ],\n",
       "       [15.000002 ],\n",
       "       [17.000017 ],\n",
       "       [19.000032 ],\n",
       "       [21.000048 ]], dtype=float32)"
      ]
     },
     "execution_count": 19,
     "metadata": {},
     "output_type": "execute_result"
    }
   ],
   "source": [
    "predicted"
   ]
  },
  {
   "cell_type": "markdown",
   "id": "d9beaf62",
   "metadata": {},
   "source": [
    "- 模型保存与读取"
   ]
  },
  {
   "cell_type": "code",
   "execution_count": 21,
   "id": "eb38418f",
   "metadata": {},
   "outputs": [],
   "source": [
    "torch.save(model.state_dict(),'model.pkl')"
   ]
  },
  {
   "cell_type": "code",
   "execution_count": 23,
   "id": "effb592d",
   "metadata": {},
   "outputs": [
    {
     "data": {
      "text/plain": [
       "<All keys matched successfully>"
      ]
     },
     "execution_count": 23,
     "metadata": {},
     "output_type": "execute_result"
    }
   ],
   "source": [
    "model.load_state_dict(torch.load('model.pkl'))"
   ]
  },
  {
   "cell_type": "code",
   "execution_count": 25,
   "id": "30f2fdb7",
   "metadata": {},
   "outputs": [
    {
     "data": {
      "text/plain": [
       "False"
      ]
     },
     "execution_count": 25,
     "metadata": {},
     "output_type": "execute_result"
    }
   ],
   "source": [
    "torch.cuda.is_available()"
   ]
  }
 ],
 "metadata": {
  "kernelspec": {
   "display_name": "Python 3 (ipykernel)",
   "language": "python",
   "name": "python3"
  },
  "language_info": {
   "codemirror_mode": {
    "name": "ipython",
    "version": 3
   },
   "file_extension": ".py",
   "mimetype": "text/x-python",
   "name": "python",
   "nbconvert_exporter": "python",
   "pygments_lexer": "ipython3",
   "version": "3.10.6"
  }
 },
 "nbformat": 4,
 "nbformat_minor": 5
}
